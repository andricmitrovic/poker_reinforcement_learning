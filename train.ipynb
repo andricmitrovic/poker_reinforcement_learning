{
 "cells": [
  {
   "cell_type": "code",
   "execution_count": 1,
   "id": "5f18106e",
   "metadata": {},
   "outputs": [],
   "source": [
    "%run dqn.ipynb"
   ]
  },
  {
   "cell_type": "code",
   "execution_count": 2,
   "id": "454350e4",
   "metadata": {},
   "outputs": [],
   "source": [
    "%matplotlib inline"
   ]
  },
  {
   "cell_type": "code",
   "execution_count": 3,
   "id": "c6466fc4",
   "metadata": {},
   "outputs": [],
   "source": [
    "import gym\n",
    "import random\n",
    "import os\n",
    "import numpy as np\n",
    "import matplotlib.pyplot as plt"
   ]
  },
  {
   "cell_type": "code",
   "execution_count": 4,
   "id": "6663eb34",
   "metadata": {},
   "outputs": [],
   "source": [
    "# Fix for jupyter kernel dying\n",
    "os.environ['KMP_DUPLICATE_LIB_OK']='True'"
   ]
  },
  {
   "cell_type": "code",
   "execution_count": 5,
   "id": "e214cf0a",
   "metadata": {},
   "outputs": [
    {
     "name": "stderr",
     "output_type": "stream",
     "text": [
      "C:\\Users\\namitrovic\\Anaconda3\\lib\\site-packages\\gym\\core.py:329: DeprecationWarning: \u001b[33mWARN: Initializing wrapper in old step API which returns one bool instead of two. It is recommended to set `new_step_api=True` to use new step API. This will be the default behaviour in future.\u001b[0m\n",
      "  deprecation(\n",
      "C:\\Users\\namitrovic\\Anaconda3\\lib\\site-packages\\gym\\wrappers\\step_api_compatibility.py:39: DeprecationWarning: \u001b[33mWARN: Initializing environment in old step API which returns one bool instead of two. It is recommended to set `new_step_api=True` to use new step API. This will be the default behaviour in future.\u001b[0m\n",
      "  deprecation(\n",
      "  0%|                                                                                        | 0/20000 [00:00<?, ?it/s]C:\\Users\\namitrovic\\AppData\\Local\\Temp\\ipykernel_15892\\2069968058.py:42: UserWarning: Creating a tensor from a list of numpy.ndarrays is extremely slow. Please consider converting the list to a single numpy.ndarray with numpy.array() before converting to a tensor. (Triggered internally at  C:\\actions-runner\\_work\\pytorch\\pytorch\\builder\\windows\\pytorch\\torch\\csrc\\utils\\tensor_new.cpp:204.)\n",
      "  state = torch.tensor(state, dtype=torch.float)\n",
      "100%|████████████████████████████████████████████████████████████████████████████| 20000/20000 [14:09<00:00, 23.54it/s]\n"
     ]
    }
   ],
   "source": [
    "cartpole = CartPole()\n",
    "scores, avg_scores = cartpole.run_train()"
   ]
  },
  {
   "cell_type": "code",
   "execution_count": 6,
   "id": "cc5d8c26",
   "metadata": {},
   "outputs": [
    {
     "data": {
      "text/plain": [
       "<matplotlib.legend.Legend at 0x178ce09c370>"
      ]
     },
     "execution_count": 6,
     "metadata": {},
     "output_type": "execute_result"
    },
    {
     "data": {
      "image/png": "[encoded data removed]",
      "text/plain": [
       "<Figure size 432x288 with 1 Axes>"
      ]
     },
     "metadata": {
      "needs_background": "light"
     },
     "output_type": "display_data"
    }
   ],
   "source": [
    "plt.title(\"Training scores\")\n",
    "plt.xlabel(\"Episodes\")\n",
    "plt.plot(scores, label = \"score\")\n",
    "plt.plot(avg_scores, label = \"avg_score\")\n",
    "plt.legend()\n",
    "#plt.savefig('scores.png')"
   ]
  },
  {
   "cell_type": "code",
   "execution_count": null,
   "id": "da36b53f",
   "metadata": {},
   "outputs": [],
   "source": []
  }
 ],
 "metadata": {
  "kernelspec": {
   "display_name": "Python 3 (ipykernel)",
   "language": "python",
   "name": "python3"
  },
  "language_info": {
   "codemirror_mode": {
    "name": "ipython",
    "version": 3
   },
   "file_extension": ".py",
   "mimetype": "text/x-python",
   "name": "python",
   "nbconvert_exporter": "python",
   "pygments_lexer": "ipython3",
   "version": "3.9.12"
  }
 },
 "nbformat": 4,
 "nbformat_minor": 5
}
