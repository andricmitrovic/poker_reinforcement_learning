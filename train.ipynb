{
 "cells": [
  {
   "cell_type": "code",
   "execution_count": 19,
   "id": "5f18106e",
   "metadata": {},
   "outputs": [],
   "source": [
    "%run dqn.ipynb"
   ]
  },
  {
   "cell_type": "code",
   "execution_count": 20,
   "id": "454350e4",
   "metadata": {},
   "outputs": [],
   "source": [
    "%matplotlib inline"
   ]
  },
  {
   "cell_type": "code",
   "execution_count": 21,
   "id": "c6466fc4",
   "metadata": {},
   "outputs": [],
   "source": [
    "import gym\n",
    "import random\n",
    "import os\n",
    "import numpy as np\n",
    "import matplotlib.pyplot as plt"
   ]
  },
  {
   "cell_type": "code",
   "execution_count": 22,
   "id": "6663eb34",
   "metadata": {},
   "outputs": [],
   "source": [
    "# Fix for jupyter kernel dying\n",
    "os.environ['KMP_DUPLICATE_LIB_OK']='True'"
   ]
  },
  {
   "cell_type": "code",
   "execution_count": 23,
   "id": "e214cf0a",
   "metadata": {},
   "outputs": [
    {
     "name": "stdout",
     "output_type": "stream",
     "text": [
      "Episode 1/3000 Score: 19\n",
      "Episode 2/3000 Score: 33\n",
      "Episode 3/3000 Score: 501\n",
      "Episode 4/3000 Score: 501\n",
      "Episode 5/3000 Score: 501\n",
      "Episode 6/3000 Score: 501\n",
      "Episode 7/3000 Score: 501\n",
      "Episode 8/3000 Score: 28\n",
      "Episode 9/3000 Score: 501\n",
      "Episode 10/3000 Score: 501\n",
      "Episode 11/3000 Score: 24\n",
      "Episode 12/3000 Score: 501\n",
      "Episode 13/3000 Score: 501\n",
      "Episode 14/3000 Score: 501\n",
      "Episode 15/3000 Score: 22\n",
      "Episode 16/3000 Score: 52\n",
      "Episode 17/3000 Score: 501\n",
      "Episode 18/3000 Score: 501\n",
      "Episode 19/3000 Score: 501\n",
      "Episode 20/3000 Score: 501\n",
      "Episode 21/3000 Score: 501\n",
      "Episode 22/3000 Score: 501\n",
      "Episode 23/3000 Score: 501\n",
      "Episode 24/3000 Score: 501\n",
      "Episode 25/3000 Score: 407\n",
      "Episode 26/3000 Score: 501\n"
     ]
    }
   ],
   "source": [
    "cartpole = CartPole()\n",
    "scores, avg_scores = cartpole.run_train()"
   ]
  },
  {
   "cell_type": "code",
   "execution_count": 24,
   "id": "cc5d8c26",
   "metadata": {},
   "outputs": [
    {
     "data": {
      "text/plain": [
       "<matplotlib.legend.Legend at 0x1af71e16100>"
      ]
     },
     "execution_count": 24,
     "metadata": {},
     "output_type": "execute_result"
    },
    {
     "data": {
      "image/png": "[encoded data removed]",
      "text/plain": [
       "<Figure size 432x288 with 1 Axes>"
      ]
     },
     "metadata": {
      "needs_background": "light"
     },
     "output_type": "display_data"
    }
   ],
   "source": [
    "plt.title(\"Training scores\")\n",
    "plt.xlabel(\"Episodes\")\n",
    "plt.scatter(range(len(scores)), scores, label = \"score\", s = 3)\n",
    "plt.plot(avg_scores, label = \"avg_score\", color = 'orange')\n",
    "plt.legend()\n",
    "#plt.savefig('scores.png')"
   ]
  },
  {
   "cell_type": "code",
   "execution_count": null,
   "id": "da36b53f",
   "metadata": {},
   "outputs": [],
   "source": []
  }
 ],
 "metadata": {
  "kernelspec": {
   "display_name": "Python 3",
   "language": "python",
   "name": "python3"
  },
  "language_info": {
   "codemirror_mode": {
    "name": "ipython",
    "version": 3
   },
   "file_extension": ".py",
   "mimetype": "text/x-python",
   "name": "python",
   "nbconvert_exporter": "python",
   "pygments_lexer": "ipython3",
   "version": "3.8.12"
  }
 },
 "nbformat": 4,
 "nbformat_minor": 5
}
